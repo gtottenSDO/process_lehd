{
 "cells": [
  {
   "cell_type": "markdown",
   "id": "2b8fb576",
   "metadata": {},
   "source": [
    "The following notebook is for processing LEHD files"
   ]
  },
  {
   "cell_type": "code",
   "execution_count": 1,
   "id": "42097a32",
   "metadata": {},
   "outputs": [
    {
     "name": "stdout",
     "output_type": "stream",
     "text": [
      "── \u001b[1mAttaching core tidyverse packages\u001b[22m ──────────────────────── tidyverse 2.0.0 ──\n",
      "\u001b[32m✔\u001b[39m \u001b[34mdplyr    \u001b[39m 1.1.4     \u001b[32m✔\u001b[39m \u001b[34mreadr    \u001b[39m 2.1.5\n",
      "\u001b[32m✔\u001b[39m \u001b[34mforcats  \u001b[39m 1.0.0     \u001b[32m✔\u001b[39m \u001b[34mstringr  \u001b[39m 1.5.1\n",
      "\u001b[32m✔\u001b[39m \u001b[34mggplot2  \u001b[39m 3.5.2     \u001b[32m✔\u001b[39m \u001b[34mtibble   \u001b[39m 3.2.1\n",
      "\u001b[32m✔\u001b[39m \u001b[34mlubridate\u001b[39m 1.9.4     \u001b[32m✔\u001b[39m \u001b[34mtidyr    \u001b[39m 1.3.1\n",
      "\u001b[32m✔\u001b[39m \u001b[34mpurrr    \u001b[39m 1.0.4     \n",
      "── \u001b[1mConflicts\u001b[22m ────────────────────────────────────────── tidyverse_conflicts() ──\n",
      "\u001b[31m✖\u001b[39m \u001b[34mdplyr\u001b[39m::\u001b[32mfilter()\u001b[39m masks \u001b[34mstats\u001b[39m::filter()\n",
      "\u001b[31m✖\u001b[39m \u001b[34mdplyr\u001b[39m::\u001b[32mlag()\u001b[39m    masks \u001b[34mstats\u001b[39m::lag()\n",
      "\u001b[36mℹ\u001b[39m Use the \u001b]8;;http://conflicted.r-lib.org/\u0007conflicted package\u001b]8;;\u0007 to force all conflicts to become errors\n",
      "Loading required package: DBI\n",
      "\n",
      "Attaching package: ‘dbplyr’\n",
      "\n",
      "The following objects are masked from ‘package:dplyr’:\n",
      "\n",
      "    ident, sql\n",
      "\n",
      "\n",
      "Attaching package: ‘xml2’\n",
      "\n",
      "The following object is masked from ‘package:httr2’:\n",
      "\n",
      "    url_parse\n",
      "\n"
     ]
    }
   ],
   "source": [
    "library(tidyverse)\n",
    "library(duckdb)\n",
    "library(DBI)\n",
    "library(dbplyr)\n",
    "library(connections)\n",
    "library(httr2)\n",
    "library(xml2)"
   ]
  },
  {
   "cell_type": "code",
   "execution_count": 2,
   "id": "c3bc26e5",
   "metadata": {},
   "outputs": [
    {
     "data": {
      "text/plain": [
       "<connConnection>"
      ]
     },
     "execution_count": null,
     "metadata": {},
     "output_type": "execute_result"
    }
   ],
   "source": [
    "# create connection to duckdb with file name \"lehd_data.duckdb\"\n",
    "\n",
    "lehd_con <- dbConnect(duckdb::duckdb(), \"lehd_data.duckdb\")\n",
    "\n",
    "connection_open(duckdb(), \"lehd_data.duckdb\")"
   ]
  },
  {
   "cell_type": "markdown",
   "id": "20002719",
   "metadata": {},
   "source": [
    "## Mutiple Job Holding Rate\n",
    "\n",
    "Multiple Job Holdings Rates are derived from the LODES data from the Census Bureau. The multiple job holding rate is derived using the WAC (worker area characteristics) by taking the percentage difference between All Jobs and All Primary Jobs for each area.\n",
    "\n",
    "First we create a function that can be used for downloading data from the LEHD servers. This function is used for both calculating Multiple Job Holding Rates and for commuting flows."
   ]
  },
  {
   "cell_type": "code",
   "execution_count": 3,
   "id": "e38602cc",
   "metadata": {},
   "outputs": [],
   "source": [
    "# read in state codes\n",
    " \n",
    "state_codes <- duckdb_read_csv(lehd_con, \"state_codes\", \"lehd_files/state_codes.txt\") \n",
    "\n"
   ]
  },
  {
   "cell_type": "code",
   "execution_count": 4,
   "id": "016912fa",
   "metadata": {},
   "outputs": [],
   "source": [
    "\n",
    "# create function for downloading lehd_data out_of_state flag determines if it downloads the \"aux\" file, which is for jobs where residence is out of state. LEHD source are options are \"od\" (origin_destination), \"wac\" (worker area characteristics), and \"rac\" (resident area charactersitics). Job types begin with JT00 (for all jobs) with additional JT designations based on designations such as private, private primary, etc\n",
    "download_lehd_state <- function(\n",
    "    state_code, \n",
    "    lehd_source = \"od\",\n",
    "    file_type = c(\"xwalk\", \"aux\", \"main\"),\n",
    "    job_type = \"JT00\") {\n",
    "    # determine where files will go based on file type or state\n",
    "    folder_ext <- case_when(\n",
    "        file_type == \"xwalk\" ~ \"xwalk/\",\n",
    "        state_code == \"co\" ~ \"co/\",\n",
    "        .default = \"other/\"\n",
    "    )\n",
    "\n",
    "    # Create a vector of URLs\n",
    "\n",
    "    lehd_base_url <- ifelse(\n",
    "        file_type == \"xwalk\",\n",
    "        paste0(\"https://lehd.ces.census.gov/data/lodes/LODES8/\", state_code, \"/\"),\n",
    "        paste0(\"https://lehd.ces.census.gov/data/lodes/LODES8/\", state_code, \"/\", lehd_source, \"/\")\n",
    "    )\n",
    "\n",
    "    lehd_links <- request(lehd_base_url) |>\n",
    "        req_perform() |>\n",
    "        resp_body_html() |>\n",
    "        xml_find_all(\"//a\")\n",
    "\n",
    "    lehd_file_list <- xml_attr(lehd_links, \"href\") |>\n",
    "        str_subset(file_type) |>\n",
    "        str_subset(if_else(file_type == \"xwalk\", file_type, job_type)) |>\n",
    "        str_subset(\"csv.gz\")\n",
    "\n",
    "    lehd_urls <- c(paste0(lehd_base_url, lehd_file_list))\n",
    "\n",
    "    # Set up destination folder\n",
    "    lehd_dest_folder <- paste0(\n",
    "        \"lehd_files/\",\n",
    "        folder_ext\n",
    "    )\n",
    "\n",
    "    dir.create(lehd_dest_folder, showWarnings = FALSE)\n",
    "\n",
    "    lehd_dest_files <- paste0(lehd_dest_folder, lehd_file_list)\n",
    "\n",
    "    names(lehd_file_list) <- lehd_file_list |>\n",
    "        str_extract(\"\\\\d{4}\") |>\n",
    "        as.integer()\n",
    "\n",
    "    # Download files using map\n",
    "    map2(\n",
    "        c(\n",
    "            lehd_urls,\n",
    "            \"https://lehd.ces.census.gov/data/lodes/LODES8/co/co_xwalk.csv.gz\"\n",
    "        ), c(\n",
    "            lehd_dest_files,\n",
    "            paste0(lehd_dest_folder, \"co_xwalk.csv.gz\")\n",
    "        ),\n",
    "        function(url, dest_file) {\n",
    "            # check to see if file exists - if it does skip download\n",
    "            if (file.exists(dest_file)) {\n",
    "                # cat(\"File already exists\\n\")\n",
    "                return()\n",
    "            } else {\n",
    "                tryCatch(\n",
    "                    {\n",
    "                        download.file(url, destfile = dest_file, mode = \"wb\")\n",
    "                        cat(\"Downloaded file \", dest_file, \"\\n\")\n",
    "                    },\n",
    "                    error = function(e) {\n",
    "                        cat(\"Error downloading file \", dest_file, \":\", conditionMessage(e), \"\\n\")\n",
    "                    }\n",
    "                )\n",
    "            }\n",
    "        }\n",
    "    )\n",
    "}"
   ]
  },
  {
   "cell_type": "code",
   "execution_count": 5,
   "id": "b5ae8790",
   "metadata": {},
   "outputs": [],
   "source": [
    "\n",
    "wac_grid <- (expand_grid(state_code = \"co\", lehd_source = \"wac\", file_type = c(\"S000\"), job_type = c(\"JT00\", \"JT01\")))\n",
    "\n",
    "wac_results <- pmap(\n",
    "  wac_grid,\n",
    "  download_lehd_state,\n",
    "  .progress = TRUE)"
   ]
  },
  {
   "cell_type": "code",
   "execution_count": 6,
   "id": "a2c92797",
   "metadata": {},
   "outputs": [
    {
     "name": "stdout",
     "output_type": "stream",
     "text": [
      "\r                     \r"
     ]
    }
   ],
   "source": [
    "states <- tbl(lehd_con, \"state_codes\") |> pull(Code) |> unique()"
   ]
  },
  {
   "cell_type": "code",
   "execution_count": 7,
   "id": "f4303cc1",
   "metadata": {},
   "outputs": [
    {
     "name": "stdout",
     "output_type": "stream",
     "text": [
      " \u001b[32m■■■■■■■■                        \u001b[39m  24% |  ETA:  5s\r"
     ]
    },
    {
     "name": "stderr",
     "output_type": "stream",
     "text": [
      "trying URL 'https://lehd.ces.census.gov/data/lodes/LODES8/il/od/il_od_aux_JT00_2009.csv.gz'\n",
      "Content type 'application/x-gzip' length 1632875 bytes (1.6 MB)\n",
      "downloaded 1.6 MB\n",
      "\n"
     ]
    },
    {
     "name": "stdout",
     "output_type": "stream",
     "text": [
      "Downloaded file  lehd_files/other/il_od_aux_JT00_2009.csv.gz \n"
     ]
    },
    {
     "name": "stderr",
     "output_type": "stream",
     "text": [
      "trying URL 'https://lehd.ces.census.gov/data/lodes/LODES8/il/od/il_od_aux_JT00_2010.csv.gz'\n",
      "Content type 'application/x-gzip' length 1717457 bytes (1.6 MB)\n",
      "downloaded 1.6 MB\n",
      "\n"
     ]
    },
    {
     "name": "stdout",
     "output_type": "stream",
     "text": [
      "Downloaded file  lehd_files/other/il_od_aux_JT00_2010.csv.gz \n"
     ]
    },
    {
     "name": "stderr",
     "output_type": "stream",
     "text": [
      "trying URL 'https://lehd.ces.census.gov/data/lodes/LODES8/il/od/il_od_aux_JT00_2011.csv.gz'\n",
      "Content type 'application/x-gzip' length 1763748 bytes (1.7 MB)\n",
      "downloaded 1.7 MB\n",
      "\n"
     ]
    },
    {
     "name": "stdout",
     "output_type": "stream",
     "text": [
      "Downloaded file  lehd_files/other/il_od_aux_JT00_2011.csv.gz \n"
     ]
    },
    {
     "name": "stderr",
     "output_type": "stream",
     "text": [
      "trying URL 'https://lehd.ces.census.gov/data/lodes/LODES8/il/od/il_od_aux_JT00_2012.csv.gz'\n",
      "Content type 'application/x-gzip' length 1821256 bytes (1.7 MB)\n",
      "downloaded 1.7 MB\n",
      "\n"
     ]
    },
    {
     "name": "stdout",
     "output_type": "stream",
     "text": [
      "Downloaded file  lehd_files/other/il_od_aux_JT00_2012.csv.gz \n"
     ]
    },
    {
     "name": "stderr",
     "output_type": "stream",
     "text": [
      "trying URL 'https://lehd.ces.census.gov/data/lodes/LODES8/il/od/il_od_aux_JT00_2013.csv.gz'\n",
      "Content type 'application/x-gzip' length 1918763 bytes (1.8 MB)\n",
      "downloaded 1.8 MB\n",
      "\n"
     ]
    },
    {
     "name": "stdout",
     "output_type": "stream",
     "text": [
      "Downloaded file  lehd_files/other/il_od_aux_JT00_2013.csv.gz \n"
     ]
    },
    {
     "name": "stderr",
     "output_type": "stream",
     "text": [
      "trying URL 'https://lehd.ces.census.gov/data/lodes/LODES8/il/od/il_od_aux_JT00_2014.csv.gz'\n",
      "Content type 'application/x-gzip' length 1994913 bytes (1.9 MB)\n",
      "downloaded 1.9 MB\n",
      "\n"
     ]
    },
    {
     "name": "stdout",
     "output_type": "stream",
     "text": [
      "Downloaded file  lehd_files/other/il_od_aux_JT00_2014.csv.gz \n"
     ]
    },
    {
     "name": "stderr",
     "output_type": "stream",
     "text": [
      "trying URL 'https://lehd.ces.census.gov/data/lodes/LODES8/il/od/il_od_aux_JT00_2015.csv.gz'\n",
      "Content type 'application/x-gzip' length 1934673 bytes (1.8 MB)\n",
      "downloaded 1.8 MB\n",
      "\n"
     ]
    },
    {
     "name": "stdout",
     "output_type": "stream",
     "text": [
      "Downloaded file  lehd_files/other/il_od_aux_JT00_2015.csv.gz \n"
     ]
    },
    {
     "name": "stderr",
     "output_type": "stream",
     "text": [
      "trying URL 'https://lehd.ces.census.gov/data/lodes/LODES8/il/od/il_od_aux_JT00_2016.csv.gz'\n",
      "Content type 'application/x-gzip' length 1977735 bytes (1.9 MB)\n",
      "downloaded 1.9 MB\n",
      "\n"
     ]
    },
    {
     "name": "stdout",
     "output_type": "stream",
     "text": [
      "Downloaded file  lehd_files/other/il_od_aux_JT00_2016.csv.gz \n"
     ]
    },
    {
     "name": "stderr",
     "output_type": "stream",
     "text": [
      "trying URL 'https://lehd.ces.census.gov/data/lodes/LODES8/il/od/il_od_aux_JT00_2017.csv.gz'\n",
      "Content type 'application/x-gzip' length 2113769 bytes (2.0 MB)\n",
      "downloaded 2.0 MB\n",
      "\n"
     ]
    },
    {
     "name": "stdout",
     "output_type": "stream",
     "text": [
      "Downloaded file  lehd_files/other/il_od_aux_JT00_2017.csv.gz \n"
     ]
    },
    {
     "name": "stderr",
     "output_type": "stream",
     "text": [
      "trying URL 'https://lehd.ces.census.gov/data/lodes/LODES8/il/od/il_od_aux_JT00_2018.csv.gz'\n",
      "Content type 'application/x-gzip' length 2127323 bytes (2.0 MB)\n",
      "downloaded 2.0 MB\n",
      "\n"
     ]
    },
    {
     "name": "stdout",
     "output_type": "stream",
     "text": [
      "Downloaded file  lehd_files/other/il_od_aux_JT00_2018.csv.gz \n"
     ]
    },
    {
     "name": "stderr",
     "output_type": "stream",
     "text": [
      "trying URL 'https://lehd.ces.census.gov/data/lodes/LODES8/il/od/il_od_aux_JT00_2019.csv.gz'\n",
      "Content type 'application/x-gzip' length 2160115 bytes (2.1 MB)\n",
      "downloaded 2.1 MB\n",
      "\n"
     ]
    },
    {
     "name": "stdout",
     "output_type": "stream",
     "text": [
      "Downloaded file  lehd_files/other/il_od_aux_JT00_2019.csv.gz \n"
     ]
    },
    {
     "name": "stderr",
     "output_type": "stream",
     "text": [
      "trying URL 'https://lehd.ces.census.gov/data/lodes/LODES8/il/od/il_od_aux_JT00_2020.csv.gz'\n",
      "Content type 'application/x-gzip' length 2051787 bytes (2.0 MB)\n",
      "downloaded 2.0 MB\n",
      "\n"
     ]
    },
    {
     "name": "stdout",
     "output_type": "stream",
     "text": [
      "Downloaded file  lehd_files/other/il_od_aux_JT00_2020.csv.gz \n"
     ]
    },
    {
     "name": "stderr",
     "output_type": "stream",
     "text": [
      "trying URL 'https://lehd.ces.census.gov/data/lodes/LODES8/il/od/il_od_aux_JT00_2021.csv.gz'\n",
      "Content type 'application/x-gzip' length 2137167 bytes (2.0 MB)\n",
      "downloaded 2.0 MB\n",
      "\n"
     ]
    },
    {
     "name": "stdout",
     "output_type": "stream",
     "text": [
      "Downloaded file  lehd_files/other/il_od_aux_JT00_2021.csv.gz \n"
     ]
    },
    {
     "name": "stderr",
     "output_type": "stream",
     "text": [
      "trying URL 'https://lehd.ces.census.gov/data/lodes/LODES8/il/od/il_od_aux_JT00_2022.csv.gz'\n",
      "Content type 'application/x-gzip' length 2218906 bytes (2.1 MB)\n",
      "downloaded 2.1 MB\n",
      "\n"
     ]
    },
    {
     "name": "stdout",
     "output_type": "stream",
     "text": [
      "Downloaded file  lehd_files/other/il_od_aux_JT00_2022.csv.gz \n",
      "\r \u001b[32m■■■■■■■■■                       \u001b[39m  25% |  ETA:  1m\r"
     ]
    },
    {
     "name": "stderr",
     "output_type": "stream",
     "text": [
      "trying URL 'https://lehd.ces.census.gov/data/lodes/LODES8/in/od/in_od_aux_JT00_2002.csv.gz'\n",
      "Content type 'application/x-gzip' length 784603 bytes (766 KB)\n",
      "downloaded 766 KB\n",
      "\n"
     ]
    },
    {
     "name": "stdout",
     "output_type": "stream",
     "text": [
      "Downloaded file  lehd_files/other/in_od_aux_JT00_2002.csv.gz \n"
     ]
    },
    {
     "name": "stderr",
     "output_type": "stream",
     "text": [
      "trying URL 'https://lehd.ces.census.gov/data/lodes/LODES8/in/od/in_od_aux_JT00_2003.csv.gz'\n",
      "\n"
     ]
    },
    {
     "name": "stdout",
     "output_type": "stream",
     "text": [
      "\r                                                  \r"
     ]
    }
   ],
   "source": [
    "od_grid <- (expand_grid(state_code =str_to_lower(states), lehd_source = \"od\", file_type = c(\"aux\"), job_type = c(\"JT00\"))) |> \n",
    "  bind_rows(c(state_code = \"co\", lehd_source = \"od\", file_type = \"main\", job_type = \"JT00\"))\n",
    "\n",
    "od_results <- pmap(\n",
    "  od_grid,\n",
    "  download_lehd_state,\n",
    "  .progress = TRUE)\n",
    "\n"
   ]
  },
  {
   "cell_type": "code",
   "execution_count": 9,
   "id": "e7ab0225",
   "metadata": {},
   "outputs": [
    {
     "name": "stdout",
     "output_type": "stream",
     "text": [
      "                     \r"
     ]
    }
   ],
   "source": [
    "# read in wac\n",
    "dbExecute(\n",
    "  lehd_con,\n",
    "  \"CREATE OR REPLACE TABLE wac AS\n",
    "  SELECT * FROM read_csv('lehd_files/*/*wac*.csv.gz',\n",
    "  filename = TRUE)\"\n",
    ")\n"
   ]
  },
  {
   "cell_type": "code",
   "execution_count": 10,
   "id": "7ac795e7",
   "metadata": {},
   "outputs": [
    {
     "name": "stdout",
     "output_type": "stream",
     "text": [
      "DuckDB progress:   4%"
     ]
    },
    {
     "name": "stderr",
     "output_type": "stream",
     "text": [
      "\n"
     ]
    },
    {
     "name": "stdout",
     "output_type": "stream",
     "text": [
      "                     \r"
     ]
    },
    {
     "name": "stderr",
     "output_type": "stream",
     "text": [
      "\n"
     ]
    }
   ],
   "source": [
    "\n",
    "dbExecute(\n",
    "  lehd_con,\n",
    "  \"CREATE OR REPLACE TABLE od AS\n",
    "  SELECT * FROM read_csv('lehd_files/*/*od*.csv.gz',\n",
    "  union_by_name = TRUE,\n",
    "  null_padding = TRUE,\n",
    "  filename = TRUE)\"\n",
    ")"
   ]
  },
  {
   "cell_type": "code",
   "execution_count": null,
   "id": "e4bd3a20",
   "metadata": {},
   "outputs": [
    {
     "name": "stdout",
     "output_type": "stream",
     "text": [
      "\rDuckDB progress:  23%"
     ]
    }
   ],
   "source": [
    "# read in crosswalks\n",
    "dbExecute(\n",
    "  lehd_con,\n",
    "  \"CREATE OR REPLACE TABLE lehd_crosswalks AS\n",
    "  SELECT * FROM read_csv('lehd_files/xwalk/*xwalk*.csv.gz',\n",
    "  filename = TRUE)\"\n",
    ")\n"
   ]
  },
  {
   "cell_type": "code",
   "execution_count": null,
   "id": "dd56929b",
   "metadata": {},
   "outputs": [],
   "source": [
    "# read in wac\n",
    "lehd_mhj <- tbl(lehd_con, \"wac\") |> \n",
    "  select(w_geocode, C000, filename) |> \n",
    "  mutate(\n",
    "    w_geocode = str_sub(w_geocode, 1, 5),\n",
    "    w_state = str_sub(w_geocode, 1, 2),\n",
    "    w_cty = str_sub(w_geocode, 3, 5),\n",
    "    job_type = regexp_extract(filename, \"JT..\"),\n",
    "    year = as.integer(regexp_extract(filename, \"\\\\d{4}\")),\n",
    "    .after = w_geocode\n",
    "    ) |> \n",
    "  summarize(total = sum(C000), .by = c(w_geocode, w_state, w_cty, job_type, year)) |> \n",
    "  pivot_wider(names_from = job_type, values_from = total) |> \n",
    "  mutate(mult_job_hldg_rate = JT00/JT01 - 1) |> \n",
    "    select(!starts_with(\"JT\")) |> \n",
    "  arrange(w_state, w_cty, year) |> \n",
    "  collect()"
   ]
  },
  {
   "cell_type": "code",
   "execution_count": null,
   "id": "43528580",
   "metadata": {},
   "outputs": [],
   "source": [
    "dbWriteTable(lehd_con, \"lehd_mhj\", lehd_mhj, overwrite = TRUE)\n",
    "\n",
    "write_csv(lehd_mhj, \"lehd_mhj.csv\")"
   ]
  },
  {
   "cell_type": "markdown",
   "id": "6bc0c053",
   "metadata": {},
   "source": [
    "# Calculate Commuting Flows\n",
    "\n",
    "Get commuting flows from LEHD data and calculate net commuters by county. Currently only setup for Colorado - add \"*aux*\" files instead of main for out of state. Broken into a series of steps.\n",
    "\n",
    "First download the [LODES OD](https://lehd.ces.census.gov/data/#lodes) data from the Census lehd server.\n",
    "\n",
    "Next read in the LEHD crosswalk file and create a function to read in and process the LEHD data.\n",
    "\n",
    "This function reads in the data and processes it to calculate inflow, outflow, and net commuters by county. It also saves the data as an rds file to avoid having to read in the data again."
   ]
  },
  {
   "cell_type": "code",
   "execution_count": null,
   "id": "8bf343ef",
   "metadata": {},
   "outputs": [],
   "source": [
    "\n",
    "# read in LEHD data\n",
    "lehd_commute <- tbl(lehd_con, \"od\") |> \n",
    "    select(w_geocode, h_geocode, S000, filename) |>\n",
    "    mutate(\n",
    "        w_geocode = str_sub(w_geocode, 1, 5),\n",
    "        w_state = str_sub(w_geocode, 1, 2),\n",
    "        w_cty = str_sub(w_geocode, 3, 5),\n",
    "        h_geocode = str_sub(h_geocode, 1, 5),\n",
    "        h_state = str_sub(h_geocode, 1, 2),\n",
    "        h_cty = str_sub(h_geocode, 3, 5),\n",
    "        year = as.integer(regexp_extract(filename, \"\\\\d{4}\")),\n",
    "        same_county = as.integer(w_geocode == h_geocode)\n",
    "    ) |>\n",
    "    filter(h_state == \"08\" | w_state == \"08\") |>\n",
    "    summarise(\n",
    "        total = sum(S000, na.rm = TRUE), \n",
    "        .by = c(\n",
    "        year,\n",
    "        h_cty, \n",
    "        h_state, \n",
    "        w_cty, \n",
    "        w_state, \n",
    "        same_county)) |>\n",
    "    mutate(\n",
    "        total_live_work = total * same_county,\n",
    "        total_commute = total - total_live_work\n",
    "    )\n",
    "\n"
   ]
  },
  {
   "cell_type": "code",
   "execution_count": null,
   "id": "f4e94e13",
   "metadata": {},
   "outputs": [],
   "source": [
    "dbWriteTable(lehd_con, \"lehd_commute\", collect(lehd_commute), overwrite = TRUE)"
   ]
  },
  {
   "cell_type": "code",
   "execution_count": null,
   "id": "1e575846",
   "metadata": {},
   "outputs": [],
   "source": [
    "# calculate inflow commuters\n",
    "lehd_workers <- tbl(lehd_con, \"lehd_commute\") |>\n",
    "    filter(w_state == \"08\") |>\n",
    "    summarize(\n",
    "        total_commute_in = sum(total_commute),\n",
    "        total_live_work = sum(total_live_work),\n",
    "        .by = c(year, w_state, w_cty)\n",
    "    ) |> \n",
    "        arrange(year, w_state, w_cty)\n",
    "     "
   ]
  },
  {
   "cell_type": "code",
   "execution_count": null,
   "id": "9d5b4afa",
   "metadata": {},
   "outputs": [],
   "source": [
    "dbWriteTable(lehd_con, \"lehd_workers\", collect(lehd_workers), overwrite = TRUE)\n",
    "lehd_workers <- tbl(lehd_con, \"lehd_workers\")\n",
    "lehd_workers"
   ]
  },
  {
   "cell_type": "code",
   "execution_count": null,
   "id": "375495a5",
   "metadata": {},
   "outputs": [],
   "source": [
    "# calculate outflow commuters\n",
    "lehd_residents <- tbl(lehd_con, \"lehd_commute\") |>\n",
    "    filter(h_state == \"08\") |>\n",
    "    summarize(\n",
    "        total_commute_out = -sum(total_commute),\n",
    "        .by = c(year, h_state, h_cty)\n",
    "    ) |>\n",
    "    arrange(year, h_state, h_cty)\n",
    "\n",
    "dbWriteTable(lehd_con, \"lehd_residents\", collect(lehd_residents), overwrite = TRUE)\n",
    "lehd_residents <- tbl(lehd_con, \"lehd_residents\")\n",
    "lehd_residents"
   ]
  },
  {
   "cell_type": "code",
   "execution_count": null,
   "id": "86b13fe6",
   "metadata": {},
   "outputs": [],
   "source": [
    "\n",
    "# calculate net commuter\n",
    "lehd_net <- collect(lehd_workers) |>\n",
    "    rename(cty = w_cty) |>\n",
    "    full_join(collect(lehd_residents) |> \n",
    "        rename(cty = h_cty)) |>\n",
    "    mutate(\n",
    "        across(starts_with(\"total\"), ~ replace_na(.,0)),\n",
    "        year = year,\n",
    "        net_commute = total_commute_in + total_commute_out\n",
    "    ) |>\n",
    "    select(year, cty, total_live_work, total_commute_in, total_commute_out, net_commute) |> \n",
    "        arrange(year, cty)\n",
    "     "
   ]
  },
  {
   "cell_type": "code",
   "execution_count": null,
   "id": "3c9ee223",
   "metadata": {},
   "outputs": [],
   "source": [
    "dbWriteTable(lehd_con, \"lehd_net\", lehd_net, overwrite = TRUE)\n",
    "\n",
    "lehd_net"
   ]
  },
  {
   "cell_type": "code",
   "execution_count": null,
   "id": "3243e971",
   "metadata": {},
   "outputs": [],
   "source": [
    "write_csv(lehd_net, \"lehd_commute.csv\")\n",
    "write_csv(lehd_)"
   ]
  },
  {
   "cell_type": "code",
   "execution_count": null,
   "id": "10b16a2a",
   "metadata": {},
   "outputs": [],
   "source": [
    "dbDisconnect(lehd_con)"
   ]
  }
 ],
 "metadata": {
  "language_info": {
   "name": "r"
  }
 },
 "nbformat": 4,
 "nbformat_minor": 5
}
