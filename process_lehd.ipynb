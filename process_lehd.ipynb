{
 "cells": [
  {
   "cell_type": "markdown",
   "id": "2b8fb576",
   "metadata": {},
   "source": [
    "The following notebook is for processing LEHD files"
   ]
  },
  {
   "cell_type": "code",
   "execution_count": 1,
   "id": "42097a32",
   "metadata": {},
   "outputs": [
    {
     "name": "stdout",
     "output_type": "stream",
     "text": [
      "── \u001b[1mAttaching core tidyverse packages\u001b[22m ──────────────────────── tidyverse 2.0.0 ──\n",
      "\u001b[32m✔\u001b[39m \u001b[34mdplyr    \u001b[39m 1.1.4     \u001b[32m✔\u001b[39m \u001b[34mreadr    \u001b[39m 2.1.5\n",
      "\u001b[32m✔\u001b[39m \u001b[34mforcats  \u001b[39m 1.0.0     \u001b[32m✔\u001b[39m \u001b[34mstringr  \u001b[39m 1.5.1\n",
      "\u001b[32m✔\u001b[39m \u001b[34mggplot2  \u001b[39m 3.5.2     \u001b[32m✔\u001b[39m \u001b[34mtibble   \u001b[39m 3.2.1\n",
      "\u001b[32m✔\u001b[39m \u001b[34mlubridate\u001b[39m 1.9.4     \u001b[32m✔\u001b[39m \u001b[34mtidyr    \u001b[39m 1.3.1\n",
      "\u001b[32m✔\u001b[39m \u001b[34mpurrr    \u001b[39m 1.0.4     \n",
      "── \u001b[1mConflicts\u001b[22m ────────────────────────────────────────── tidyverse_conflicts() ──\n",
      "\u001b[31m✖\u001b[39m \u001b[34mdplyr\u001b[39m::\u001b[32mfilter()\u001b[39m masks \u001b[34mstats\u001b[39m::filter()\n",
      "\u001b[31m✖\u001b[39m \u001b[34mdplyr\u001b[39m::\u001b[32mlag()\u001b[39m    masks \u001b[34mstats\u001b[39m::lag()\n",
      "\u001b[36mℹ\u001b[39m Use the \u001b]8;;http://conflicted.r-lib.org/\u0007conflicted package\u001b]8;;\u0007 to force all conflicts to become errors\n",
      "Loading required package: DBI\n",
      "\n",
      "Attaching package: ‘dbplyr’\n",
      "\n",
      "The following objects are masked from ‘package:dplyr’:\n",
      "\n",
      "    ident, sql\n",
      "\n",
      "\n",
      "Attaching package: ‘xml2’\n",
      "\n",
      "The following object is masked from ‘package:httr2’:\n",
      "\n",
      "    url_parse\n",
      "\n"
     ]
    }
   ],
   "source": [
    "library(tidyverse)\n",
    "library(duckdb)\n",
    "library(DBI)\n",
    "library(dbplyr)\n",
    "library(connections)\n",
    "library(httr2)\n",
    "library(xml2)"
   ]
  },
  {
   "cell_type": "code",
   "execution_count": 24,
   "id": "c3bc26e5",
   "metadata": {},
   "outputs": [
    {
     "data": {
      "text/plain": [
       "<connConnection>"
      ]
     },
     "execution_count": null,
     "metadata": {},
     "output_type": "execute_result"
    }
   ],
   "source": [
    "# create connection to duckdb with file name \"lehd_data.duckdb\"\n",
    "\n",
    "lehd_con <- dbConnect(duckdb::duckdb(), \"lehd_data.duckdb\")\n",
    "\n",
    "connection_open(duckdb(), \"lehd_data.duckdb\")"
   ]
  },
  {
   "cell_type": "markdown",
   "id": "20002719",
   "metadata": {},
   "source": [
    "## Mutiple Job Holding Rate\n",
    "\n",
    "Multiple Job Holdings Rates are derived from the LODES data from the Census Bureau. The multiple job holding rate is derived using the WAC (worker area characteristics) by taking the percentage difference between All Jobs and All Primary Jobs for each area.\n",
    "\n",
    "First we create a function that can be used for downloading data from the LEHD servers. This function is used for both calculating Multiple Job Holding Rates and for commuting flows."
   ]
  },
  {
   "cell_type": "code",
   "execution_count": 3,
   "id": "e38602cc",
   "metadata": {},
   "outputs": [],
   "source": [
    "# read in state codes\n",
    " \n",
    "state_codes <- duckdb_read_csv(lehd_con, \"state_codes\", \"lehd_files/state_codes.txt\") \n",
    "\n"
   ]
  },
  {
   "cell_type": "code",
   "execution_count": 4,
   "id": "016912fa",
   "metadata": {},
   "outputs": [],
   "source": [
    "\n",
    "# create function for downloading lehd_data out_of_state flag determines if it downloads the \"aux\" file, which is for jobs where residence is out of state. LEHD source are options are \"od\" (origin_destination), \"wac\" (worker area characteristics), and \"rac\" (resident area charactersitics). Job types begin with JT00 (for all jobs) with additional JT designations based on designations such as private, private primary, etc\n",
    "download_lehd_state <- function(\n",
    "    state_code, \n",
    "    lehd_source = \"od\",\n",
    "    file_type = c(\"xwalk\", \"aux\", \"main\"),\n",
    "    job_type = \"JT00\") {\n",
    "    # determine where files will go based on file type or state\n",
    "    folder_ext <- case_when(\n",
    "        file_type == \"xwalk\" ~ \"xwalk/\",\n",
    "        state_code == \"co\" ~ \"co/\",\n",
    "        .default = \"other/\"\n",
    "    )\n",
    "\n",
    "    # Create a vector of URLs\n",
    "\n",
    "    lehd_base_url <- ifelse(\n",
    "        file_type == \"xwalk\",\n",
    "        paste0(\"https://lehd.ces.census.gov/data/lodes/LODES8/\", state_code, \"/\"),\n",
    "        paste0(\"https://lehd.ces.census.gov/data/lodes/LODES8/\", state_code, \"/\", lehd_source, \"/\")\n",
    "    )\n",
    "\n",
    "    lehd_links <- request(lehd_base_url) |>\n",
    "        req_perform() |>\n",
    "        resp_body_html() |>\n",
    "        xml_find_all(\"//a\")\n",
    "\n",
    "    lehd_file_list <- xml_attr(lehd_links, \"href\") |>\n",
    "        str_subset(file_type) |>\n",
    "        str_subset(if_else(file_type == \"xwalk\", file_type, job_type)) |>\n",
    "        str_subset(\"csv.gz\")\n",
    "\n",
    "    lehd_urls <- c(paste0(lehd_base_url, lehd_file_list))\n",
    "\n",
    "    # Set up destination folder\n",
    "    lehd_dest_folder <- paste0(\n",
    "        \"lehd_files/\",\n",
    "        folder_ext\n",
    "    )\n",
    "\n",
    "    dir.create(lehd_dest_folder, showWarnings = FALSE)\n",
    "\n",
    "    lehd_dest_files <- paste0(lehd_dest_folder, lehd_file_list)\n",
    "\n",
    "    names(lehd_file_list) <- lehd_file_list |>\n",
    "        str_extract(\"\\\\d{4}\") |>\n",
    "        as.integer()\n",
    "\n",
    "    # Download files using map\n",
    "    map2(\n",
    "        c(\n",
    "            lehd_urls,\n",
    "            \"https://lehd.ces.census.gov/data/lodes/LODES8/co/co_xwalk.csv.gz\"\n",
    "        ), c(\n",
    "            lehd_dest_files,\n",
    "            paste0(lehd_dest_folder, \"co_xwalk.csv.gz\")\n",
    "        ),\n",
    "        function(url, dest_file) {\n",
    "            # check to see if file exists - if it does skip download\n",
    "            if (file.exists(dest_file)) {\n",
    "                # cat(\"File already exists\\n\")\n",
    "                return()\n",
    "            } else {\n",
    "                tryCatch(\n",
    "                    {\n",
    "                        download.file(url, destfile = dest_file, mode = \"wb\")\n",
    "                        cat(\"Downloaded file \", dest_file, \"\\n\")\n",
    "                    },\n",
    "                    error = function(e) {\n",
    "                        cat(\"Error downloading file \", dest_file, \":\", conditionMessage(e), \"\\n\")\n",
    "                    }\n",
    "                )\n",
    "            }\n",
    "        }\n",
    "    )\n",
    "}"
   ]
  },
  {
   "cell_type": "code",
   "execution_count": 5,
   "id": "b5ae8790",
   "metadata": {},
   "outputs": [
    {
     "name": "stdout",
     "output_type": "stream",
     "text": [
      "                                                    ETA:  2s\r"
     ]
    }
   ],
   "source": [
    "\n",
    "wac_grid <- (expand_grid(state_code = \"co\", lehd_source = \"wac\", file_type = c(\"S000\"), job_type = c(\"JT00\", \"JT01\")))\n",
    "\n",
    "wac_results <- pmap(\n",
    "  wac_grid,\n",
    "  download_lehd_state,\n",
    "  .progress = TRUE)"
   ]
  },
  {
   "cell_type": "code",
   "execution_count": 6,
   "id": "a2c92797",
   "metadata": {},
   "outputs": [
    {
     "name": "stdout",
     "output_type": "stream",
     "text": [
      "\r                     \r"
     ]
    }
   ],
   "source": [
    "states <- tbl(lehd_con, \"state_codes\") |> pull(Code) |> unique()"
   ]
  },
  {
   "cell_type": "code",
   "execution_count": 7,
   "id": "f4303cc1",
   "metadata": {},
   "outputs": [
    {
     "name": "stdout",
     "output_type": "stream",
     "text": [
      "                                                    ETA:  0s\r"
     ]
    }
   ],
   "source": [
    "od_grid <- (expand_grid(state_code =str_to_lower(states), lehd_source = \"od\", file_type = c(\"aux\"), job_type = c(\"JT00\"))) |> \n",
    "  bind_rows(c(state_code = \"co\", lehd_source = \"od\", file_type = \"main\", job_type = \"JT00\"))\n",
    "\n",
    "od_results <- pmap(\n",
    "  od_grid,\n",
    "  download_lehd_state,\n",
    "  .progress = TRUE)\n",
    "\n"
   ]
  },
  {
   "cell_type": "code",
   "execution_count": 8,
   "id": "e7ab0225",
   "metadata": {},
   "outputs": [
    {
     "name": "stdout",
     "output_type": "stream",
     "text": [
      "                     \r"
     ]
    }
   ],
   "source": [
    "# read in wac\n",
    "dbExecute(\n",
    "  lehd_con,\n",
    "  \"CREATE OR REPLACE TABLE wac AS\n",
    "  SELECT * FROM read_csv('lehd_files/*/*wac*.csv.gz',\n",
    "  filename = TRUE)\"\n",
    ")\n"
   ]
  },
  {
   "cell_type": "code",
   "execution_count": 9,
   "id": "7ac795e7",
   "metadata": {},
   "outputs": [
    {
     "name": "stdout",
     "output_type": "stream",
     "text": [
      "                     \r"
     ]
    },
    {
     "data": {
      "text/plain": [
       "[1] 157472350"
      ]
     },
     "execution_count": null,
     "metadata": {},
     "output_type": "execute_result"
    }
   ],
   "source": [
    "\n",
    "dbExecute(\n",
    "  lehd_con,\n",
    "  \"CREATE OR REPLACE TABLE od AS\n",
    "  SELECT * FROM read_csv('lehd_files/*/*od*.csv.gz',\n",
    "  union_by_name = TRUE,\n",
    "  null_padding = TRUE,\n",
    "  filename = TRUE)\"\n",
    ")"
   ]
  },
  {
   "cell_type": "code",
   "execution_count": 10,
   "id": "e4bd3a20",
   "metadata": {},
   "outputs": [
    {
     "name": "stdout",
     "output_type": "stream",
     "text": [
      "                     \r"
     ]
    }
   ],
   "source": [
    "# read in crosswalks\n",
    "dbExecute(\n",
    "  lehd_con,\n",
    "  \"CREATE OR REPLACE TABLE lehd_crosswalks AS\n",
    "  SELECT * FROM read_csv('lehd_files/xwalk/*xwalk*.csv.gz',\n",
    "  filename = TRUE)\"\n",
    ")\n"
   ]
  },
  {
   "cell_type": "code",
   "execution_count": 25,
   "id": "dd56929b",
   "metadata": {},
   "outputs": [
    {
     "name": "stdout",
     "output_type": "stream",
     "text": [
      "                     \r"
     ]
    }
   ],
   "source": [
    "# read in wac\n",
    "lehd_mhj <- tbl(lehd_con, \"wac\") |> \n",
    "  select(w_geocode, C000, filename) |> \n",
    "  mutate(\n",
    "    w_geocode = str_sub(w_geocode, 1, 5),\n",
    "    w_state = str_sub(w_geocode, 1, 2),\n",
    "    w_cty = str_sub(w_geocode, 3, 5),\n",
    "    job_type = regexp_extract(filename, \"JT..\"),\n",
    "    year = as.integer(regexp_extract(filename, \"\\\\d{4}\")),\n",
    "    .after = w_geocode\n",
    "    ) |> \n",
    "  summarize(total = sum(C000), .by = c(w_geocode, w_state, w_cty, job_type, year)) |> \n",
    "  pivot_wider(names_from = job_type, values_from = total) |> \n",
    "  mutate(mult_job_hldg_rate = JT00/JT01 - 1) |> \n",
    "  rename(all_jobs = JT00, primary_jobs = JT01) |> \n",
    "  arrange(w_state, w_cty, year) |> \n",
    "  collect()"
   ]
  },
  {
   "cell_type": "code",
   "execution_count": 26,
   "id": "43528580",
   "metadata": {},
   "outputs": [],
   "source": [
    "dbWriteTable(lehd_con, \"lehd_mhj\", lehd_mhj, overwrite = TRUE)\n",
    "\n",
    "write_csv(lehd_mhj, \"lehd_mhj.csv\")"
   ]
  },
  {
   "cell_type": "markdown",
   "id": "6bc0c053",
   "metadata": {},
   "source": [
    "# Calculate Commuting Flows\n",
    "\n",
    "Get commuting flows from LEHD data and calculate net commuters by county. Currently only setup for Colorado - add \"*aux*\" files instead of main for out of state. Broken into a series of steps.\n",
    "\n",
    "First download the [LODES OD](https://lehd.ces.census.gov/data/#lodes) data from the Census lehd server.\n",
    "\n",
    "Next read in the LEHD crosswalk file and create a function to read in and process the LEHD data.\n",
    "\n",
    "This function reads in the data and processes it to calculate inflow, outflow, and net commuters by county. It also saves the data as an rds file to avoid having to read in the data again."
   ]
  },
  {
   "cell_type": "code",
   "execution_count": 13,
   "id": "8bf343ef",
   "metadata": {},
   "outputs": [],
   "source": [
    "\n",
    "# read in LEHD data\n",
    "lehd_commute <- tbl(lehd_con, \"od\") |> \n",
    "    select(w_geocode, h_geocode, S000, filename) |>\n",
    "    mutate(\n",
    "        w_geocode = str_sub(w_geocode, 1, 5),\n",
    "        w_state = str_sub(w_geocode, 1, 2),\n",
    "        w_cty = str_sub(w_geocode, 3, 5),\n",
    "        h_geocode = str_sub(h_geocode, 1, 5),\n",
    "        h_state = str_sub(h_geocode, 1, 2),\n",
    "        h_cty = str_sub(h_geocode, 3, 5),\n",
    "        year = as.integer(regexp_extract(filename, \"\\\\d{4}\")),\n",
    "        same_county = as.integer(w_geocode == h_geocode)\n",
    "    ) |>\n",
    "    filter(h_state == \"08\" | w_state == \"08\") |>\n",
    "    summarise(\n",
    "        total = sum(S000, na.rm = TRUE), \n",
    "        .by = c(\n",
    "        year,\n",
    "        h_cty, \n",
    "        h_state, \n",
    "        w_cty, \n",
    "        w_state, \n",
    "        same_county)) |>\n",
    "    mutate(\n",
    "        total_live_work = total * same_county,\n",
    "        total_commute = total - total_live_work\n",
    "    )\n",
    "\n"
   ]
  },
  {
   "cell_type": "code",
   "execution_count": 14,
   "id": "f4e94e13",
   "metadata": {},
   "outputs": [
    {
     "name": "stdout",
     "output_type": "stream",
     "text": [
      "                     \r"
     ]
    }
   ],
   "source": [
    "dbWriteTable(lehd_con, \"lehd_commute\", collect(lehd_commute), overwrite = TRUE)"
   ]
  },
  {
   "cell_type": "code",
   "execution_count": 15,
   "id": "1e575846",
   "metadata": {},
   "outputs": [],
   "source": [
    "# calculate inflow commuters\n",
    "lehd_workers <- tbl(lehd_con, \"lehd_commute\") |>\n",
    "    filter(w_state == \"08\") |>\n",
    "    summarize(\n",
    "        total_commute_in = sum(total_commute),\n",
    "        total_live_work = sum(total_live_work),\n",
    "        .by = c(year, w_state, w_cty)\n",
    "    ) |> \n",
    "        arrange(year, w_state, w_cty)\n",
    "     "
   ]
  },
  {
   "cell_type": "code",
   "execution_count": 16,
   "id": "9d5b4afa",
   "metadata": {},
   "outputs": [
    {
     "data": {
      "text/plain": [
       "\u001b[38;5;246m# Source:   table<lehd_workers> [?? x 5]\u001b[39m\n",
       "\u001b[38;5;246m# Database: DuckDB v1.2.1 [gtotten@Windows 10 x64:R 4.5.0/C:\\Users\\gtotten\\git\\process_lehd\\lehd_data.duckdb]\u001b[39m\n",
       "    year w_state w_cty total_commute_in total_live_work\n",
       "   \u001b[3m\u001b[38;5;246m<int>\u001b[39m\u001b[23m \u001b[3m\u001b[38;5;246m<chr>\u001b[39m\u001b[23m   \u001b[3m\u001b[38;5;246m<chr>\u001b[39m\u001b[23m            \u001b[3m\u001b[38;5;246m<dbl>\u001b[39m\u001b[23m           \u001b[3m\u001b[38;5;246m<dbl>\u001b[39m\u001b[23m\n",
       "\u001b[38;5;250m 1\u001b[39m  \u001b[4m2\u001b[24m002 08      001              \u001b[4m9\u001b[24m\u001b[4m0\u001b[24m458           \u001b[4m5\u001b[24m\u001b[4m5\u001b[24m959\n",
       "\u001b[38;5;250m 2\u001b[39m  \u001b[4m2\u001b[24m002 08      003               \u001b[4m2\u001b[24m280            \u001b[4m4\u001b[24m488\n",
       "\u001b[38;5;250m 3\u001b[39m  \u001b[4m2\u001b[24m002 08      005             \u001b[4m1\u001b[24m\u001b[4m8\u001b[24m\u001b[4m0\u001b[24m718           \u001b[4m9\u001b[24m\u001b[4m7\u001b[24m337\n",
       "\u001b[38;5;250m 4\u001b[39m  \u001b[4m2\u001b[24m002 08      007                651            \u001b[4m2\u001b[24m152\n",
       "\u001b[38;5;250m 5\u001b[39m  \u001b[4m2\u001b[24m002 08      009                124             873\n",
       "\u001b[38;5;250m 6\u001b[39m  \u001b[4m2\u001b[24m002 08      011                311             765\n",
       "\u001b[38;5;250m 7\u001b[39m  \u001b[4m2\u001b[24m002 08      013              \u001b[4m7\u001b[24m\u001b[4m5\u001b[24m636           \u001b[4m7\u001b[24m\u001b[4m0\u001b[24m758\n",
       "\u001b[38;5;250m 8\u001b[39m  \u001b[4m2\u001b[24m002 08      014              \u001b[4m2\u001b[24m\u001b[4m5\u001b[24m331              13\n",
       "\u001b[38;5;250m 9\u001b[39m  \u001b[4m2\u001b[24m002 08      015               \u001b[4m1\u001b[24m478            \u001b[4m4\u001b[24m148\n",
       "\u001b[38;5;250m10\u001b[39m  \u001b[4m2\u001b[24m002 08      017                349             346\n",
       "\u001b[38;5;246m# ℹ more rows\u001b[39m\n",
       "\u001b[38;5;246m# ℹ Use `print(n = ...)` to see more rows\u001b[39m"
      ]
     },
     "execution_count": null,
     "metadata": {},
     "output_type": "execute_result"
    }
   ],
   "source": [
    "dbWriteTable(lehd_con, \"lehd_workers\", collect(lehd_workers), overwrite = TRUE)\n",
    "lehd_workers <- tbl(lehd_con, \"lehd_workers\")\n",
    "lehd_workers"
   ]
  },
  {
   "cell_type": "code",
   "execution_count": 17,
   "id": "375495a5",
   "metadata": {},
   "outputs": [
    {
     "data": {
      "text/plain": [
       "\u001b[38;5;246m# Source:   table<lehd_residents> [?? x 4]\u001b[39m\n",
       "\u001b[38;5;246m# Database: DuckDB v1.2.1 [gtotten@Windows 10 x64:R 4.5.0/C:\\Users\\gtotten\\git\\process_lehd\\lehd_data.duckdb]\u001b[39m\n",
       "    year h_state h_cty total_commute_out\n",
       "   \u001b[3m\u001b[38;5;246m<int>\u001b[39m\u001b[23m \u001b[3m\u001b[38;5;246m<chr>\u001b[39m\u001b[23m   \u001b[3m\u001b[38;5;246m<chr>\u001b[39m\u001b[23m             \u001b[3m\u001b[38;5;246m<dbl>\u001b[39m\u001b[23m\n",
       "\u001b[38;5;250m 1\u001b[39m  \u001b[4m2\u001b[24m002 08      001             -\u001b[31m\u001b[4m1\u001b[24m\u001b[4m3\u001b[24m\u001b[4m8\u001b[24m\u001b[39m\u001b[31m651\u001b[39m\n",
       "\u001b[38;5;250m 2\u001b[39m  \u001b[4m2\u001b[24m002 08      003               -\u001b[31m\u001b[4m1\u001b[24m72\u001b[39m\u001b[31m7\u001b[39m\n",
       "\u001b[38;5;250m 3\u001b[39m  \u001b[4m2\u001b[24m002 08      005             -\u001b[31m\u001b[4m1\u001b[24m\u001b[4m5\u001b[24m\u001b[4m0\u001b[24m\u001b[39m\u001b[31m323\u001b[39m\n",
       "\u001b[38;5;250m 4\u001b[39m  \u001b[4m2\u001b[24m002 08      007                -\u001b[31m760\u001b[39m\n",
       "\u001b[38;5;250m 5\u001b[39m  \u001b[4m2\u001b[24m002 08      009                -\u001b[31m213\u001b[39m\n",
       "\u001b[38;5;250m 6\u001b[39m  \u001b[4m2\u001b[24m002 08      011                -\u001b[31m864\u001b[39m\n",
       "\u001b[38;5;250m 7\u001b[39m  \u001b[4m2\u001b[24m002 08      013              -\u001b[31m\u001b[4m3\u001b[24m\u001b[4m6\u001b[24m9\u001b[39m\u001b[31m13\u001b[39m\n",
       "\u001b[38;5;250m 8\u001b[39m  \u001b[4m2\u001b[24m002 08      014                -\u001b[31m578\u001b[39m\n",
       "\u001b[38;5;250m 9\u001b[39m  \u001b[4m2\u001b[24m002 08      015               -\u001b[31m\u001b[4m2\u001b[24m15\u001b[39m\u001b[31m0\u001b[39m\n",
       "\u001b[38;5;250m10\u001b[39m  \u001b[4m2\u001b[24m002 08      017                 -\u001b[31m45\u001b[39m\n",
       "\u001b[38;5;246m# ℹ more rows\u001b[39m\n",
       "\u001b[38;5;246m# ℹ Use `print(n = ...)` to see more rows\u001b[39m"
      ]
     },
     "execution_count": null,
     "metadata": {},
     "output_type": "execute_result"
    }
   ],
   "source": [
    "# calculate outflow commuters\n",
    "lehd_residents <- tbl(lehd_con, \"lehd_commute\") |>\n",
    "    filter(h_state == \"08\") |>\n",
    "    summarize(\n",
    "        total_commute_out = -sum(total_commute),\n",
    "        .by = c(year, h_state, h_cty)\n",
    "    ) |>\n",
    "    arrange(year, h_state, h_cty)\n",
    "\n",
    "dbWriteTable(lehd_con, \"lehd_residents\", collect(lehd_residents), overwrite = TRUE)\n",
    "lehd_residents <- tbl(lehd_con, \"lehd_residents\")\n",
    "lehd_residents"
   ]
  },
  {
   "cell_type": "code",
   "execution_count": 18,
   "id": "86b13fe6",
   "metadata": {},
   "outputs": [
    {
     "name": "stdout",
     "output_type": "stream",
     "text": [
      "\rDuckDB progress:   0%\rDuckDB progress:  99%\rDuckDB progress:  99%\rDuckDB progress:  99%\rDuckDB progress:  99%\rDuckDB progress:  99%\rDuckDB progress:  99%\r                     \r\u001b[1m\u001b[22mJoining with `by = join_by(year, cty)`\n"
     ]
    }
   ],
   "source": [
    "\n",
    "# calculate net commuter\n",
    "lehd_net <- collect(lehd_workers) |>\n",
    "    rename(cty = w_cty) |>\n",
    "    full_join(collect(lehd_residents) |> \n",
    "        rename(cty = h_cty)) |>\n",
    "    mutate(\n",
    "        across(starts_with(\"total\"), ~ replace_na(.,0)),\n",
    "        year = year,\n",
    "        net_commute = total_commute_in + total_commute_out\n",
    "    ) |>\n",
    "    select(year, cty, total_live_work, total_commute_in, total_commute_out, net_commute) |> \n",
    "        arrange(year, cty)\n",
    "     "
   ]
  },
  {
   "cell_type": "code",
   "execution_count": 19,
   "id": "3c9ee223",
   "metadata": {},
   "outputs": [
    {
     "data": {
      "text/plain": [
       "\u001b[38;5;246m# A tibble: 1,344 × 6\u001b[39m\n",
       "    year cty   total_live_work total_commute_in total_commute_out net_commute\n",
       "   \u001b[3m\u001b[38;5;246m<int>\u001b[39m\u001b[23m \u001b[3m\u001b[38;5;246m<chr>\u001b[39m\u001b[23m           \u001b[3m\u001b[38;5;246m<dbl>\u001b[39m\u001b[23m            \u001b[3m\u001b[38;5;246m<dbl>\u001b[39m\u001b[23m             \u001b[3m\u001b[38;5;246m<dbl>\u001b[39m\u001b[23m       \u001b[3m\u001b[38;5;246m<dbl>\u001b[39m\u001b[23m\n",
       "\u001b[38;5;250m 1\u001b[39m  \u001b[4m2\u001b[24m002 001             \u001b[4m5\u001b[24m\u001b[4m5\u001b[24m959            \u001b[4m9\u001b[24m\u001b[4m0\u001b[24m458           -\u001b[31m\u001b[4m1\u001b[24m\u001b[4m3\u001b[24m\u001b[4m8\u001b[24m\u001b[39m\u001b[31m651\u001b[39m      -\u001b[31m\u001b[4m4\u001b[24m\u001b[4m8\u001b[24m1\u001b[39m\u001b[31m93\u001b[39m\n",
       "\u001b[38;5;250m 2\u001b[39m  \u001b[4m2\u001b[24m002 003              \u001b[4m4\u001b[24m488             \u001b[4m2\u001b[24m280             -\u001b[31m\u001b[4m1\u001b[24m72\u001b[39m\u001b[31m7\u001b[39m         553\n",
       "\u001b[38;5;250m 3\u001b[39m  \u001b[4m2\u001b[24m002 005             \u001b[4m9\u001b[24m\u001b[4m7\u001b[24m337           \u001b[4m1\u001b[24m\u001b[4m8\u001b[24m\u001b[4m0\u001b[24m718           -\u001b[31m\u001b[4m1\u001b[24m\u001b[4m5\u001b[24m\u001b[4m0\u001b[24m\u001b[39m\u001b[31m323\u001b[39m       \u001b[4m3\u001b[24m\u001b[4m0\u001b[24m395\n",
       "\u001b[38;5;250m 4\u001b[39m  \u001b[4m2\u001b[24m002 007              \u001b[4m2\u001b[24m152              651              -\u001b[31m760\u001b[39m        -\u001b[31m109\u001b[39m\n",
       "\u001b[38;5;250m 5\u001b[39m  \u001b[4m2\u001b[24m002 009               873              124              -\u001b[31m213\u001b[39m         -\u001b[31m89\u001b[39m\n",
       "\u001b[38;5;250m 6\u001b[39m  \u001b[4m2\u001b[24m002 011               765              311              -\u001b[31m864\u001b[39m        -\u001b[31m553\u001b[39m\n",
       "\u001b[38;5;250m 7\u001b[39m  \u001b[4m2\u001b[24m002 013             \u001b[4m7\u001b[24m\u001b[4m0\u001b[24m758            \u001b[4m7\u001b[24m\u001b[4m5\u001b[24m636            -\u001b[31m\u001b[4m3\u001b[24m\u001b[4m6\u001b[24m9\u001b[39m\u001b[31m13\u001b[39m       \u001b[4m3\u001b[24m\u001b[4m8\u001b[24m723\n",
       "\u001b[38;5;250m 8\u001b[39m  \u001b[4m2\u001b[24m002 014                13            \u001b[4m2\u001b[24m\u001b[4m5\u001b[24m331              -\u001b[31m578\u001b[39m       \u001b[4m2\u001b[24m\u001b[4m4\u001b[24m753\n",
       "\u001b[38;5;250m 9\u001b[39m  \u001b[4m2\u001b[24m002 015              \u001b[4m4\u001b[24m148             \u001b[4m1\u001b[24m478             -\u001b[31m\u001b[4m2\u001b[24m15\u001b[39m\u001b[31m0\u001b[39m        -\u001b[31m672\u001b[39m\n",
       "\u001b[38;5;250m10\u001b[39m  \u001b[4m2\u001b[24m002 017               346              349               -\u001b[31m45\u001b[39m         304\n",
       "\u001b[38;5;246m# ℹ 1,334 more rows\u001b[39m\n",
       "\u001b[38;5;246m# ℹ Use `print(n = ...)` to see more rows\u001b[39m"
      ]
     },
     "execution_count": null,
     "metadata": {},
     "output_type": "execute_result"
    }
   ],
   "source": [
    "dbWriteTable(lehd_con, \"lehd_net\", lehd_net, overwrite = TRUE)\n",
    "\n",
    "lehd_net"
   ]
  },
  {
   "cell_type": "code",
   "execution_count": 21,
   "id": "3243e971",
   "metadata": {},
   "outputs": [],
   "source": [
    "write_csv(lehd_net, \"lehd_commute.csv\")\n"
   ]
  },
  {
   "cell_type": "code",
   "execution_count": 22,
   "id": "10b16a2a",
   "metadata": {},
   "outputs": [
    {
     "name": "stdout",
     "output_type": "stream",
     "text": [
      "\r                     \r"
     ]
    }
   ],
   "source": [
    "dbDisconnect(lehd_con)"
   ]
  }
 ],
 "metadata": {
  "language_info": {
   "name": "r"
  }
 },
 "nbformat": 4,
 "nbformat_minor": 5
}
